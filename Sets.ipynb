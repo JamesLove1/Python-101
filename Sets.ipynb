{
 "cells": [
  {
   "cell_type": "markdown",
   "metadata": {},
   "source": [
    "Sets"
   ]
  },
  {
   "cell_type": "code",
   "execution_count": 1,
   "metadata": {},
   "outputs": [
    {
     "name": "stdout",
     "output_type": "stream",
     "text": [
      "{'Eric', 'sEric', 'and', 'my', 'i', 'is', 'name'}\n"
     ]
    }
   ],
   "source": [
    "print(set(\"my name i sEric and Eric is my name\".split()))"
   ]
  },
  {
   "cell_type": "code",
   "execution_count": 10,
   "metadata": {},
   "outputs": [
    {
     "name": "stdout",
     "output_type": "stream",
     "text": [
      "{'John', 'Eric ', 'Jake'}\n",
      "{'Jill', 'John'}\n",
      "{'John'}\n",
      "{'John'}\n",
      "{'Jill', 'Eric ', 'Jake'}\n",
      "{'Jill', 'Eric ', 'Jake'}\n",
      "{'Eric ', 'Jake'}\n",
      "{'Jill'}\n",
      "{'Eric ', 'Jill', 'John', 'Jake'}\n"
     ]
    }
   ],
   "source": [
    "a = set([\"Jake\", \"John\", \"Eric \"])\n",
    "print(a)\n",
    "b = set([\"John\", \"Jill\"])\n",
    "print(b)\n",
    "\n",
    "print(a.intersection(b))\n",
    "print(b.intersection(a))\n",
    "\n",
    "print(a.symmetric_difference(b))\n",
    "print(b.symmetric_difference(a))\n",
    "\n",
    "print(a.difference(b))\n",
    "print(b.difference(a))\n",
    "\n",
    "print(a.union(b))"
   ]
  }
 ],
 "metadata": {
  "interpreter": {
   "hash": "4ce0e62306dd6a5716965d4519ada776f947e6dfc145b604b11307c10277ef29"
  },
  "kernelspec": {
   "display_name": "Python 3.9.5 64-bit",
   "language": "python",
   "name": "python3"
  },
  "language_info": {
   "codemirror_mode": {
    "name": "ipython",
    "version": 3
   },
   "file_extension": ".py",
   "mimetype": "text/x-python",
   "name": "python",
   "nbconvert_exporter": "python",
   "pygments_lexer": "ipython3",
   "version": "3.9.5"
  },
  "orig_nbformat": 4
 },
 "nbformat": 4,
 "nbformat_minor": 2
}
