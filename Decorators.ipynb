{
 "cells": [
  {
   "cell_type": "markdown",
   "metadata": {},
   "source": [
    "Decorators"
   ]
  },
  {
   "cell_type": "code",
   "execution_count": 1,
   "metadata": {},
   "outputs": [
    {
     "ename": "NameError",
     "evalue": "name 'decorator' is not defined",
     "output_type": "error",
     "traceback": [
      "\u001b[1;31m---------------------------------------------------------------------------\u001b[0m",
      "\u001b[1;31mNameError\u001b[0m                                 Traceback (most recent call last)",
      "\u001b[1;32md:\\Git Hub Projects\\Docker\\Python-\\Decorators.ipynb Cell 2'\u001b[0m in \u001b[0;36m<cell line: 1>\u001b[1;34m()\u001b[0m\n\u001b[1;32m----> <a href='vscode-notebook-cell:/d%3A/Git%20Hub%20Projects/Docker/Python-/Decorators.ipynb#ch0000001?line=0'>1</a>\u001b[0m \u001b[39m@decorator\u001b[39m\n\u001b[0;32m      <a href='vscode-notebook-cell:/d%3A/Git%20Hub%20Projects/Docker/Python-/Decorators.ipynb#ch0000001?line=1'>2</a>\u001b[0m \u001b[39mdef\u001b[39;00m \u001b[39mfunction\u001b[39m(arg):\n\u001b[0;32m      <a href='vscode-notebook-cell:/d%3A/Git%20Hub%20Projects/Docker/Python-/Decorators.ipynb#ch0000001?line=2'>3</a>\u001b[0m     \u001b[39mreturn\u001b[39;00m \u001b[39m\"\u001b[39m\u001b[39mvalue\u001b[39m\u001b[39m\"\u001b[39m\n",
      "\u001b[1;31mNameError\u001b[0m: name 'decorator' is not defined"
     ]
    }
   ],
   "source": [
    "@decorator\n",
    "def function(arg):\n",
    "    return \"value\""
   ]
  },
  {
   "cell_type": "code",
   "execution_count": 2,
   "metadata": {},
   "outputs": [
    {
     "ename": "SyntaxError",
     "evalue": "invalid syntax (613727514.py, line 2)",
     "output_type": "error",
     "traceback": [
      "\u001b[1;36m  Input \u001b[1;32mIn [2]\u001b[1;36m\u001b[0m\n\u001b[1;33m    def new_function(*args, **kwds)\u001b[0m\n\u001b[1;37m                                   ^\u001b[0m\n\u001b[1;31mSyntaxError\u001b[0m\u001b[1;31m:\u001b[0m invalid syntax\n"
     ]
    }
   ],
   "source": [
    "def repeater(old_function):\n",
    "    def new_function(*args, **kwds)\n",
    "    \n",
    "       old_function(*args, **kwds)\n",
    "       old_function(*args, **kwds)\n",
    "    return new_function"
   ]
  },
  {
   "cell_type": "code",
   "execution_count": 4,
   "metadata": {},
   "outputs": [
    {
     "ename": "NameError",
     "evalue": "name 'repeater' is not defined",
     "output_type": "error",
     "traceback": [
      "\u001b[1;31m---------------------------------------------------------------------------\u001b[0m",
      "\u001b[1;31mNameError\u001b[0m                                 Traceback (most recent call last)",
      "\u001b[1;32md:\\Git Hub Projects\\Docker\\Python-\\Decorators.ipynb Cell 4'\u001b[0m in \u001b[0;36m<cell line: 1>\u001b[1;34m()\u001b[0m\n\u001b[1;32m----> <a href='vscode-notebook-cell:/d%3A/Git%20Hub%20Projects/Docker/Python-/Decorators.ipynb#ch0000003?line=0'>1</a>\u001b[0m \u001b[39m@repeater\u001b[39m\n\u001b[0;32m      <a href='vscode-notebook-cell:/d%3A/Git%20Hub%20Projects/Docker/Python-/Decorators.ipynb#ch0000003?line=1'>2</a>\u001b[0m \u001b[39mdef\u001b[39;00m \u001b[39mmultiply\u001b[39m(num1, num2):\n\u001b[0;32m      <a href='vscode-notebook-cell:/d%3A/Git%20Hub%20Projects/Docker/Python-/Decorators.ipynb#ch0000003?line=2'>3</a>\u001b[0m     \u001b[39mprint\u001b[39m(num1\u001b[39m*\u001b[39mnum2)\n\u001b[0;32m      <a href='vscode-notebook-cell:/d%3A/Git%20Hub%20Projects/Docker/Python-/Decorators.ipynb#ch0000003?line=4'>5</a>\u001b[0m multiply(\u001b[39m2\u001b[39m,\u001b[39m3\u001b[39m)\n",
      "\u001b[1;31mNameError\u001b[0m: name 'repeater' is not defined"
     ]
    }
   ],
   "source": [
    "@repeater\n",
    "def multiply(num1, num2):\n",
    "    print(num1*num2)\n",
    "\n",
    "multiply(2,3)"
   ]
  },
  {
   "cell_type": "code",
   "execution_count": 5,
   "metadata": {},
   "outputs": [
    {
     "ename": "SyntaxError",
     "evalue": "invalid syntax (3807064661.py, line 3)",
     "output_type": "error",
     "traceback": [
      "\u001b[1;36m  Input \u001b[1;32mIn [5]\u001b[1;36m\u001b[0m\n\u001b[1;33m    return 2 * old_function(*args, **kwds):\u001b[0m\n\u001b[1;37m                                          ^\u001b[0m\n\u001b[1;31mSyntaxError\u001b[0m\u001b[1;31m:\u001b[0m invalid syntax\n"
     ]
    }
   ],
   "source": [
    "def double_out(old_function):\n",
    "    def new_function(*args, **kwds):\n",
    "        return 2 * old_function(*args, **kwds):\n",
    "    return new_function"
   ]
  },
  {
   "cell_type": "code",
   "execution_count": 6,
   "metadata": {},
   "outputs": [],
   "source": [
    "def double_li(old_function):\n",
    "    def new_function(arg):\n",
    "        return old_function(arg*2)\n",
    "    return new_function"
   ]
  },
  {
   "cell_type": "code",
   "execution_count": 7,
   "metadata": {},
   "outputs": [],
   "source": [
    "def check(old_function):\n",
    "    def new_function(arg):\n",
    "        if arg < 0: raise (ValueError, \"Negative Argument\")\n",
    "        old_function(arg)\n",
    "    return new_function"
   ]
  },
  {
   "cell_type": "code",
   "execution_count": 10,
   "metadata": {},
   "outputs": [
    {
     "data": {
      "text/plain": [
       "15"
      ]
     },
     "execution_count": 10,
     "metadata": {},
     "output_type": "execute_result"
    }
   ],
   "source": [
    "def multiply(multiplier):\n",
    "    def multiply_gererator(old_function):\n",
    "        def new_function(*args, **kwds):\n",
    "            return multiplier * old_function(*args, **kwds)\n",
    "        return new_function\n",
    "    return multiply_gererator\n",
    "\n",
    "@multiply(3)\n",
    "def return_num(num):\n",
    "    return num \n",
    "\n",
    "\n",
    "return_num(5)"
   ]
  }
 ],
 "metadata": {
  "interpreter": {
   "hash": "4ce0e62306dd6a5716965d4519ada776f947e6dfc145b604b11307c10277ef29"
  },
  "kernelspec": {
   "display_name": "Python 3.9.5 64-bit",
   "language": "python",
   "name": "python3"
  },
  "language_info": {
   "codemirror_mode": {
    "name": "ipython",
    "version": 3
   },
   "file_extension": ".py",
   "mimetype": "text/x-python",
   "name": "python",
   "nbconvert_exporter": "python",
   "pygments_lexer": "ipython3",
   "version": "3.9.5"
  },
  "orig_nbformat": 4
 },
 "nbformat": 4,
 "nbformat_minor": 2
}
