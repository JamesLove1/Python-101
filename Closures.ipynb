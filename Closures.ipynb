{
 "cells": [
  {
   "cell_type": "markdown",
   "metadata": {},
   "source": [
    "Closures"
   ]
  },
  {
   "cell_type": "code",
   "execution_count": 1,
   "metadata": {},
   "outputs": [
    {
     "name": "stdout",
     "output_type": "stream",
     "text": [
      "Test message\n",
      "None\n"
     ]
    }
   ],
   "source": [
    "def transmit_to_space(message):\n",
    "    \"this is the enclosing function\"\n",
    "    def data_transmitter():\n",
    "        \"the nested function\"\n",
    "        print(message)\n",
    "\n",
    "    data_transmitter()\n",
    "\n",
    "print(transmit_to_space(\"Test message\"))"
   ]
  },
  {
   "cell_type": "code",
   "execution_count": 6,
   "metadata": {},
   "outputs": [
    {
     "name": "stdout",
     "output_type": "stream",
     "text": [
      "\n",
      "9\n"
     ]
    }
   ],
   "source": [
    "def print_msg(number):\n",
    "    def printer():\n",
    "        \"Here we are using the nonlocal keyword\"\n",
    "        nonlocal number\n",
    "        number=3\n",
    "        print(number)\n",
    "    print()\n",
    "    print(number)\n",
    "\n",
    "print_msg(9)\n"
   ]
  },
  {
   "cell_type": "code",
   "execution_count": 10,
   "metadata": {},
   "outputs": [
    {
     "name": "stdout",
     "output_type": "stream",
     "text": [
      "Burn the Sun!\n"
     ]
    }
   ],
   "source": [
    "def transmit_to_space(message):\n",
    "    \"This is the enclosing function\"\n",
    "    def data_transmitter():\n",
    "        \"The nested function\"\n",
    "        print(message)\n",
    "    return data_transmitter \n",
    "\n",
    "fun2 = transmit_to_space(\"Burn the Sun!\")\n",
    "fun2()"
   ]
  }
 ],
 "metadata": {
  "interpreter": {
   "hash": "4ce0e62306dd6a5716965d4519ada776f947e6dfc145b604b11307c10277ef29"
  },
  "kernelspec": {
   "display_name": "Python 3.9.5 64-bit",
   "language": "python",
   "name": "python3"
  },
  "language_info": {
   "codemirror_mode": {
    "name": "ipython",
    "version": 3
   },
   "file_extension": ".py",
   "mimetype": "text/x-python",
   "name": "python",
   "nbconvert_exporter": "python",
   "pygments_lexer": "ipython3",
   "version": "3.9.5"
  },
  "orig_nbformat": 4
 },
 "nbformat": 4,
 "nbformat_minor": 2
}
